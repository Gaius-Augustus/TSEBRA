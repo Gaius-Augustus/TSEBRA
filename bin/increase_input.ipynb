{
 "cells": [
  {
   "cell_type": "code",
   "execution_count": 2,
   "id": "c9984090-f58d-48cb-bbe2-6c377ee52ff7",
   "metadata": {},
   "outputs": [],
   "source": [
    "import sys\n",
    "sys.path.insert(0, '/home/jovyan/Proj/ml_combiner/TSEBRA/bin')\n",
    "import os\n",
    "import csv\n",
    "import numpy as np\n",
    "import tensorflow as tf\n",
    "from tensorflow import keras\n",
    "from tensorflow.keras import layers\n",
    "from datetime import datetime\n",
    "import matplotlib.pyplot as plt\n",
    "from genome_anno import Anno\n",
    "from overlap_graph import Graph\n",
    "import itertools as it\n",
    "from evidence import Evidence\n",
    "from gnn import GNN\n",
    "import pickle\n",
    "import tensorflow as tf\n",
    "import subprocess as sp\n",
    "import random\n",
    "import matplotlib.pyplot as plt\n",
    "from matplotlib.lines import Line2D\n",
    "physical_devices = tf.config.list_physical_devices('GPU') \n",
    "for device in physical_devices:\n",
    "    tf.config.experimental.set_memory_growth(device, True)"
   ]
  },
  {
   "cell_type": "code",
   "execution_count": 3,
   "id": "816d76a2-ef77-423a-9f8d-fd8bf145a027",
   "metadata": {},
   "outputs": [],
   "source": [
    "species = ['Caenorhabditis_elegans','Parasteatoda_tepidariorum', \n",
    "                 'Arabidopsis_thaliana', \n",
    "                 'Bombus_terrestris', 'Rhodnius_prolixus',\n",
    "                'Populus_trichocarpa', 'Danio_rerio', \n",
    "               'Drosophila_melanogaster', 'Medicago_truncatula', 'Tetraodon_nigroviridis']\n",
    "species.sort()\n",
    "parent_dir = '/home/jovyan/Proj/ml_combiner/data/train_data'\n",
    "out = '/home/jovyan/brain/test_data/ml_training/'\n",
    "\n",
    "def get_cds_keys(tx):\n",
    "    keys = [tx.chr, tx.strand] + [str(c[0]) + '_' + str(c[1]) \\\n",
    "        for c in tx.get_type_coords('CDS', frame=False)]\n",
    "    return keys"
   ]
  },
  {
   "cell_type": "code",
   "execution_count": 4,
   "id": "47db1080-4434-411a-995a-59b0e0d22e8d",
   "metadata": {},
   "outputs": [],
   "source": [
    "graph_list = []\n",
    "for s in species:\n",
    "    with open(f'{out}/train_data/{s}_graph_object.pkl', 'rb') as inp:\n",
    "    #with open(f'{out}/train_data/{s}_altseqs_graph_object.pkl', 'rb') as inp:\n",
    "        g = pickle.load(inp)\n",
    "        graph_list.append(g)"
   ]
  },
  {
   "cell_type": "code",
   "execution_count": null,
   "id": "3b14738a-c040-40ee-bec2-7e6b514fe3ad",
   "metadata": {
    "tags": []
   },
   "outputs": [],
   "source": [
    "g = graph_list[0]\n",
    "s = species[0]\n",
    "\n",
    "for s, g in zip(species, graph_list):\n",
    "    ref_anno = Anno(f'{out}/{s}/annot.gtf', 'reference')\n",
    "    ref_anno.addGtf()\n",
    "    ref_anno_keys = []\n",
    "    ref_anno_cds = []\n",
    "    for tx in ref_anno.transcripts.values():\n",
    "        cds_keys = get_cds_keys(tx)\n",
    "        ref_anno_cds += cds_keys[2:]\n",
    "        ref_anno_keys.append('_'.join(cds_keys))\n",
    "    ref_anno_keys = set(ref_anno_keys)\n",
    "    ref_anno_cds = set(ref_anno_cds)\n",
    "\n",
    "    tp = 0\n",
    "    for c in g.connected_components().values():\n",
    "        all_keys = []\n",
    "        cds_set = []\n",
    "        chr = ''\n",
    "        strand = ''\n",
    "        for n in c:\n",
    "            tx = g.__tx_from_key__(n)    \n",
    "            chr = tx.chr\n",
    "            strand = tx.strand\n",
    "            cds_set += tx.get_type_coords('CDS', frame=False)    \n",
    "        cds_set = list(set([f'{i[0]}_{i[1]}' for i in cds_set]))\n",
    "        cds_set = [i for i in cds_set if i in ref_anno_cds]\n",
    "        cds_set.sort()\n",
    "        for i in range(1, len(cds_set)+1):\n",
    "            for subset in it.combinations(cds_set, i):\n",
    "                #all_keys.append(f'{chr}_{strand}_' + '_'.join(list(subset)))\n",
    "                if f'{chr}_{strand}_' + '_'.join(list(subset)) in ref_anno_keys:\n",
    "                    tp += 1\n",
    "        #tp += len(set(all_keys).intersection(ref_anno_keys))\n",
    "        #print(tp)\n",
    "    print(s, tp, len(ref_anno), tp/len(ref_anno))\n",
    "    with open(f'{out}/tmp.test', 'a+') as file:\n",
    "        file.write(f'{s}, {tp}, {len(ref_anno)}, {tp/len(ref_anno)}')"
   ]
  },
  {
   "cell_type": "code",
   "execution_count": 14,
   "id": "ed8eefea-f687-4f40-b039-e159a9d8d9bd",
   "metadata": {},
   "outputs": [
    {
     "data": {
      "text/plain": [
       "'7238880_7239473'"
      ]
     },
     "execution_count": 14,
     "metadata": {},
     "output_type": "execute_result"
    }
   ],
   "source": [
    "list(ref_anno_cds)[0]"
   ]
  }
 ],
 "metadata": {
  "kernelspec": {
   "display_name": "Python 3",
   "language": "python",
   "name": "python3"
  },
  "language_info": {
   "codemirror_mode": {
    "name": "ipython",
    "version": 3
   },
   "file_extension": ".py",
   "mimetype": "text/x-python",
   "name": "python",
   "nbconvert_exporter": "python",
   "pygments_lexer": "ipython3",
   "version": "3.9.2"
  }
 },
 "nbformat": 4,
 "nbformat_minor": 5
}
