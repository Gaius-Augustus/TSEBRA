{
 "cells": [
  {
   "cell_type": "code",
   "execution_count": 1,
   "id": "6c4e686c-964a-4d2f-9fd9-3b7243638654",
   "metadata": {},
   "outputs": [],
   "source": [
    "import sys\n",
    "sys.path.insert(0, '/home/jovyan/Proj/ml_combiner/TSEBRA/bin')\n",
    "import os\n",
    "import csv\n",
    "import numpy as np\n",
    "import tensorflow as tf\n",
    "from tensorflow import keras\n",
    "from tensorflow.keras import layers\n",
    "from datetime import datetime\n",
    "import matplotlib.pyplot as plt\n",
    "from genome_anno import Anno\n",
    "from overlap_graph import Graph\n",
    "from evidence import Evidence\n",
    "from gnn import GNN\n",
    "import pickle\n",
    "import tensorflow as tf\n",
    "#physical_devices = tf.config.list_physical_devices('GPU') \n",
    "#for device in physical_devices:\n",
    "    #tf.config.experimental.set_memory_growth(device, True)"
   ]
  },
  {
   "cell_type": "code",
   "execution_count": 2,
   "id": "a78266bd-579e-4ed9-93bf-0c5588bba1bd",
   "metadata": {},
   "outputs": [],
   "source": [
    "def set_weight():\n",
    "    global weight_class_one\n",
    "    a=0\n",
    "    b=0\n",
    "    for i in input_train:\n",
    "        for k in list(i[1].values())[0]:\n",
    "            a+=1\n",
    "            b+=int(k[0])\n",
    "    weight_class_one = (a-b)/b + 3\n",
    "    print(a, b, weight_class_one)"
   ]
  },
  {
   "cell_type": "code",
   "execution_count": 3,
   "id": "9a41a7d7-aa5a-4698-8de4-f1cfcbc921fd",
   "metadata": {},
   "outputs": [],
   "source": [
    "class SampleGenerator(keras.utils.Sequence):\n",
    "    def __init__(self, val, epoch_len):\n",
    "        self.val = val\n",
    "        self.epoch_len = epoch_len\n",
    "        self.shuffle=True\n",
    "        self.on_epoch_end()\n",
    "\n",
    "    def __len__(self):\n",
    "        return self.epoch_len #number of gradient descent steps per epoch\n",
    "\n",
    "    def on_epoch_end(self):\n",
    "        global input_train\n",
    "        'Updates indexes after each epoch'\n",
    "        self.indexes = np.arange(self.epoch_len)\n",
    "        input_train = []\n",
    "        for g in graph_list:            \n",
    "            i, _, _, _, _ = get_batches(g, int(numb_batches_train / len(train_species)), \n",
    "                                        batch_size, int(numb_batches_train_no_edge / len(train_species)),0)\n",
    "            input_train += i\n",
    "        if self.shuffle == True:\n",
    "            np.random.shuffle(self.indexes)\n",
    "            \n",
    "    def __getitem__(self, _index):\n",
    "        i = self.indexes[_index]\n",
    "        if self.val:\n",
    "            return input_val[i][0], input_val[i][1]\n",
    "        else:\n",
    "            return input_train[i][0], input_train[i][1]"
   ]
  },
  {
   "cell_type": "code",
   "execution_count": 4,
   "id": "1e60d04e-c521-4191-a43e-0bffe112d85e",
   "metadata": {
    "tags": []
   },
   "outputs": [],
   "source": [
    "train_species = ['Populus_trichocarpa','Drosophila_melanogaster', \n",
    "                    'Medicago_truncatula']\n",
    "#train_species = ['Caenorhabditis_elegans', 'Drosophila_melanogaster', \n",
    "                 #'Medicago_truncatula']\n",
    "#train_species= ['Arabidopsis_thaliana']\n",
    "val_species = ['Arabidopsis_thaliana', 'Danio_rerio']\n",
    "#val_species= ['Arabidopsis_thaliana']\n",
    "\n",
    "quiet = True\n",
    "numb_batches_train = 150 * len(train_species)\n",
    "numb_batches_val = 120 *len(val_species)\n",
    "numb_batches_train_no_edge = 75 * len(train_species)\n",
    "numb_batches_val_no_edge = 75 *len(val_species)\n",
    "batch_size = 128\n",
    "v=0\n",
    "brain_dir = '/home/jovyan/brain/'\n",
    "parent_dir = '/home/jovyan/Proj/ml_combiner/data/train_data'\n",
    "out = f'{parent_dir}/train/train24'\n",
    "weight_class_one = 1."
   ]
  },
  {
   "cell_type": "code",
   "execution_count": 58,
   "id": "31e1c3b2-ccb8-466c-b470-db5011670007",
   "metadata": {},
   "outputs": [],
   "source": [
    "def describe_features(graph):\n",
    "    n_f = []    \n",
    "    n_f_true = []\n",
    "    e_f_tt = []\n",
    "    e_f_tf = []\n",
    "    e_f_ft = []\n",
    "    e_f_ff = []\n",
    "    \n",
    "#     for node in graph.nodes.values():\n",
    "#         n_f.append(node.feature_vector)\n",
    "#     for edge in graph.edges.values():\n",
    "#         e_f.append(edge.feature_vector_n1_to_n2)\n",
    "#         e_f.append(edge.feature_vector_n2_to_n1)\n",
    "    for g in graph_list:\n",
    "        for node in g.nodes.values():\n",
    "            if node.is_in_ref_anno:\n",
    "                n_f_true.append(node.feature_vector)\n",
    "            else:\n",
    "                n_f.append(node.feature_vector)\n",
    "        for edge in g.edges.values():\n",
    "            n1 = g.nodes[edge.node1]\n",
    "            n2 = g.nodes[edge.node2]\n",
    "            if n1.is_in_ref_anno and n2.is_in_ref_anno:                \n",
    "                e_f_tt.append(edge.feature_vector_n1_to_n2)\n",
    "                e_f_tt.append(edge.feature_vector_n2_to_n1)\n",
    "            elif n1.is_in_ref_anno and not n2.is_in_ref_anno:\n",
    "                e_f_tf.append(edge.feature_vector_n1_to_n2)\n",
    "                e_f_ft.append(edge.feature_vector_n2_to_n1)\n",
    "            elif not n1.is_in_ref_anno and n2.is_in_ref_anno:\n",
    "                e_f_ft.append(edge.feature_vector_n1_to_n2)\n",
    "                e_f_tf.append(edge.feature_vector_n2_to_n1)\n",
    "            elif not n1.is_in_ref_anno and not n2.is_in_ref_anno:\n",
    "                e_f_ff.append(edge.feature_vector_n1_to_n2)\n",
    "                e_f_ff.append(edge.feature_vector_n2_to_n1)\n",
    "            \n",
    "    n_f = np.array(n_f)\n",
    "    n_f_true = np.array(n_f_true)\n",
    "    print(n_f.shape)\n",
    "    print(n_f_true.shape)\n",
    "    e_f_ff = np.array(e_f_ff)\n",
    "    e_f_tt = np.array(e_f_tt)\n",
    "    e_f_tf = np.array(e_f_tf)\n",
    "    e_f_ft = np.array(e_f_ft)\n",
    "    print(e_f_tt.shape)\n",
    "    print(e_f_ft.shape)\n",
    "    print(e_f_tf.shape)\n",
    "    print(e_f_ff.shape)\n",
    "    fig, ax = plt.subplots(ncols = 1, nrows=4, figsize=(15,9))\n",
    "    i = int(n_f.shape[1] / 4 + 0.5)\n",
    "    for j in range(4):\n",
    "        data = [n_f[:,k] for k in range(i*j, min(i*(j+1), n_f.shape[1]))]\n",
    "        data2 = [n_f_true[:,k] for k in range(i*j, min(i*(j+1), n_f_true.shape[1]))]\n",
    "        bp = ax[j].boxplot(data, positions=np.array(range(len(data)))*2.0-0.4, sym='', widths=0.6)\n",
    "        for item in ['boxes', 'medians']:            \n",
    "            plt.setp(bp[item], color='red')\n",
    "        bp = ax[j].boxplot(data2, positions=np.array(range(len(data2)))*2.0+0.4, sym='', widths=0.6)\n",
    "        for item in ['boxes', 'medians']:            \n",
    "            plt.setp(bp[item], color='green')\n",
    "        ax[j].set_ylim([-3,3])\n",
    "        ax[j].set_xticks([])\n",
    "        \n",
    "    plt.savefig(brain_dir + '/test_data/ml_training/plot/node_features.png', dpi=200)\n",
    "    fig.suptitle(f'node features')\n",
    "    fig, ax = plt.subplots(ncols = 1, nrows=4, figsize=(15,9))\n",
    "    i = int(e_f_tt.shape[1] / 4 + 0.5)\n",
    "    for j in range(4):\n",
    "        for c, e_f, v in zip(['red', 'orange', 'violet', 'green'], [e_f_ff, e_f_ft, e_f_tf, e_f_tt], \n",
    "                            [1.1, 0.4, -0.4, -1.1]):\n",
    "            data = [e_f[:,k] for k in range(i*j, min(i*(j+1), e_f.shape[1]))]\n",
    "            bp = ax[j].boxplot(data, positions=np.array(range(len(data)))*4.0-v, sym='', widths=0.6)\n",
    "            for item in ['boxes', 'medians']:            \n",
    "                plt.setp(bp[item], color=c)\n",
    "        ax[j].set_ylim([-3,3])\n",
    "    fig.suptitle(f'edge features')\n",
    "    plt.savefig(brain_dir + '/test_data/ml_training/plot/edge_features.png', dpi=200)\n",
    "    plt.show()"
   ]
  },
  {
   "cell_type": "code",
   "execution_count": 6,
   "id": "b8ab1cd7-fcd8-4646-8ede-bfe501c4281e",
   "metadata": {},
   "outputs": [],
   "source": [
    "\"\"\"def get_batches(tx_sets, evi, anno, numb_b, b_size, v_size, des=False):\n",
    "    graph = Graph(tx_sets, verbose=v)\n",
    "    graph.build()\n",
    "    graph.add_node_features(evi)\n",
    "    graph.add_edge_features(evi)\n",
    "    graph.add_reference_anno_label(anno)\n",
    "    graph.create_batch(numb_b, b_size, repl=False)    \n",
    "    train, val = graph.get_batches_as_input_target(v_size)\n",
    "    if des:\n",
    "        describe_features(graph)\n",
    "    return train, val, graph\"\"\"\n",
    "\n",
    "def get_batches(graph, numb_b, b_size, numb_b_n_e, v_size, des=False):    \n",
    "    graph.create_batch(numb_b, b_size, repl=False)  \n",
    "    #graph.create_batch_no_edges(numb_b_n_e, b_size, repl=False)\n",
    "    train, val, train_no_edge, val_no_edge = graph.get_batches_as_input_target(v_size)\n",
    "    if des:\n",
    "        describe_features(graph)\n",
    "    return train, val, train_no_edge, val_no_edge, graph"
   ]
  },
  {
   "cell_type": "code",
   "execution_count": 7,
   "id": "d1e45ef0-c2d5-46fc-94d5-367a49e29ee5",
   "metadata": {
    "jupyter": {
     "source_hidden": true
    },
    "tags": []
   },
   "outputs": [
    {
     "data": {
      "text/plain": [
       "\"c = 1\\ngene_sets = []\\nval_sets = []\\nfor b in ['braker1', 'braker2']:        \\n    gene_sets.append(Anno(f'{parent_dir}/{b}_train.gtf', f'anno{c}'))\\n    gene_sets[-1].addGtf()\\n    gene_sets[-1].norm_tx_format()\\n    val_sets.append(Anno(f'{parent_dir}/{b}_val.gtf', f'anno{c}'))\\n    val_sets[-1].addGtf()\\n    val_sets[-1].norm_tx_format()\\n\\n    c += 1\\n\\nref_anno = Anno(f'{parent_dir}/annot_train.gtf', 'reference')\\nref_anno.addGtf()\\nref_anno.norm_tx_format()\\nref_anno_val = Anno(f'{parent_dir}/annot_val.gtf', 'reference')\\nref_anno_val.addGtf()\\nref_anno_val.norm_tx_format()\\n\\n# read hintfiles\\nevi_train = Evidence()\\nfor h in ['hints1', 'hints2']:    \\n    evi_train.add_hintfile(f'{parent_dir}/{h}_train.gff')\\n    \\nevi_val = Evidence()\\nfor h in ['hints1', 'hints2']:        \\n    evi_val.add_hintfile(f'{parent_dir}/{h}_val.gff')\""
      ]
     },
     "execution_count": 7,
     "metadata": {},
     "output_type": "execute_result"
    }
   ],
   "source": [
    "\"\"\"c = 1\n",
    "gene_sets = []\n",
    "val_sets = []\n",
    "for b in ['braker1', 'braker2']:        \n",
    "    gene_sets.append(Anno(f'{parent_dir}/{b}_train.gtf', f'anno{c}'))\n",
    "    gene_sets[-1].addGtf()\n",
    "    gene_sets[-1].norm_tx_format()\n",
    "    val_sets.append(Anno(f'{parent_dir}/{b}_val.gtf', f'anno{c}'))\n",
    "    val_sets[-1].addGtf()\n",
    "    val_sets[-1].norm_tx_format()\n",
    "\n",
    "    c += 1\n",
    "\n",
    "ref_anno = Anno(f'{parent_dir}/annot_train.gtf', 'reference')\n",
    "ref_anno.addGtf()\n",
    "ref_anno.norm_tx_format()\n",
    "ref_anno_val = Anno(f'{parent_dir}/annot_val.gtf', 'reference')\n",
    "ref_anno_val.addGtf()\n",
    "ref_anno_val.norm_tx_format()\n",
    "\n",
    "# read hintfiles\n",
    "evi_train = Evidence()\n",
    "for h in ['hints1', 'hints2']:    \n",
    "    evi_train.add_hintfile(f'{parent_dir}/{h}_train.gff')\n",
    "    \n",
    "evi_val = Evidence()\n",
    "for h in ['hints1', 'hints2']:        \n",
    "    evi_val.add_hintfile(f'{parent_dir}/{h}_val.gff')\"\"\"\n"
   ]
  },
  {
   "cell_type": "code",
   "execution_count": 8,
   "id": "32ef51f7-d7df-4891-859c-ecacd76e01ce",
   "metadata": {},
   "outputs": [],
   "source": [
    "#input_train, _, g1 = get_batches(gene_sets, evi_train, ref_anno, numb_batches_train, batch_size, 0)\n",
    "#input_val, _, g2 = get_batches(val_sets, evi_val, ref_anno_val, numb_batches_val, batch_size, 0) \n",
    "input_train = []\n",
    "input_train_no_edge = []\n",
    "input_val = []\n",
    "input_val_no_edge = []\n",
    "graph_list = []\n",
    "for s in train_species:\n",
    "    #with open(f'{brain_dir}/test_data/ml_training/train_data/{s}_graph_object.pkl', 'rb') as inp:\n",
    "    with open(f'{brain_dir}/test_data/ml_training/train_data/{s}_altseqs_graph_object.pkl', 'rb') as inp:\n",
    "        g = pickle.load(inp)\n",
    "        graph_list.append(g)\n",
    "    #i, _, j, _, _ = get_batches(g, int(numb_batches_train / len(train_species)), \n",
    "                                #batch_size, int(numb_batches_train_no_edge / len(train_species)),0)\n",
    "    #input_train += i\n",
    "    #input_train_no_edge += j\n",
    "\n",
    "for s in val_species:\n",
    "    with open(f'{brain_dir}/test_data/ml_training/train_data/{s}_graph_object.pkl', 'rb') as inp:\n",
    "    #with open(f'{brain_dir}/test_data/ml_training/train_data/{s}_altseqs_graph_object.pkl', 'rb') as inp:\n",
    "        g = pickle.load(inp)\n",
    "    i, _, j, _, _ = get_batches(g, int(numb_batches_val / len(val_species)), \n",
    "                                batch_size, numb_batches_val_no_edge, 0)\n",
    "    input_val += i\n",
    "    input_val_no_edge += j"
   ]
  },
  {
   "cell_type": "code",
   "execution_count": 59,
   "id": "a138ef9c-dc0c-454c-8080-500d457e978f",
   "metadata": {
    "tags": []
   },
   "outputs": [
    {
     "name": "stdout",
     "output_type": "stream",
     "text": [
      "(213266, 39)\n",
      "(64090, 39)\n",
      "(5350, 24)\n",
      "(86619, 24)\n",
      "(86619, 24)\n",
      "(1199724, 24)\n"
     ]
    },
    {
     "data": {
      "image/png": "[encoded data removed]",
      "text/plain": [
       "<Figure size 1080x648 with 4 Axes>"
      ]
     },
     "metadata": {
      "needs_background": "light"
     },
     "output_type": "display_data"
    },
    {
     "data": {
      "image/png": "[encoded data removed]",
      "text/plain": [
       "<Figure size 1080x648 with 4 Axes>"
      ]
     },
     "metadata": {
      "needs_background": "light"
     },
     "output_type": "display_data"
    }
   ],
   "source": [
    "describe_features(graph_list[1])"
   ]
  },
  {
   "cell_type": "code",
   "execution_count": 10,
   "id": "b77453fd-0c18-4a78-ac80-3c7788e9515a",
   "metadata": {
    "tags": []
   },
   "outputs": [
    {
     "name": "stdout",
     "output_type": "stream",
     "text": [
      "0 242\n",
      "453 211 4.1469194312796205\n"
     ]
    }
   ],
   "source": [
    "print(len(input_train), len(input_val))\n",
    "train_gen = SampleGenerator(False, numb_batches_train)#int(numb_batches * (1-val_size)))\n",
    "val_gen = SampleGenerator(True, len(input_val))#int(numb_batches * val_size))\n",
    "set_weight()\n",
    "gnn = GNN(weight_class_one=weight_class_one)\n",
    "gnn.compile()\n",
    "#gnn.compile_nn()"
   ]
  },
  {
   "cell_type": "code",
   "execution_count": 15,
   "id": "d635978f-87d9-4eee-9f46-fc0dc52e7421",
   "metadata": {},
   "outputs": [
    {
     "data": {
      "text/plain": [
       "(1, 129, 39)"
      ]
     },
     "execution_count": 15,
     "metadata": {},
     "output_type": "execute_result"
    }
   ],
   "source": [
    "train_gen = SampleGenerator(False, numb_batches_train)#int(numb_batches * (1-val_size)))\n",
    "val_gen = SampleGenerator(True, len(input_val))\n",
    "input_train[0][0]['input_nodes'].shape"
   ]
  },
  {
   "cell_type": "code",
   "execution_count": 16,
   "id": "43bfc0a7-d396-44d4-af0b-c73a1c07a469",
   "metadata": {
    "tags": []
   },
   "outputs": [
    {
     "name": "stdout",
     "output_type": "stream",
     "text": [
      "450/450 [==============================] - 3s 8ms/step - loss: 1.9678 - last_iteration_binary_accuracy: 0.9067 - val_loss: 2.3434 - val_last_iteration_binary_accuracy: 0.9068\n"
     ]
    },
    {
     "data": {
      "image/png": "[encoded data removed]",
      "text/plain": [
       "<Figure size 1080x648 with 2 Axes>"
      ]
     },
     "metadata": {
      "needs_background": "light"
     },
     "output_type": "display_data"
    }
   ],
   "source": [
    "NUM_EPOCHS = 1\n",
    "#history = gnn.train(train_gen, val_gen, NUM_EPOCHS, out) #!\n",
    "history = gnn.train(train_gen, val_gen, NUM_EPOCHS, out)\n",
    "\n",
    "\n",
    "history.history[\"last_iteration_binary_accuracy\"][-1]\n",
    "_, ax = plt.subplots(ncols = 2, figsize=(15,9))\n",
    "\n",
    "ax[0].plot(np.arange(NUM_EPOCHS), history.history[\"loss\"], 'b', label = 'Training loss')\n",
    "ax[0].plot(np.arange(NUM_EPOCHS), history.history[\"val_loss\"], 'g', label = 'Validation loss')\n",
    "ax[0].set_title('Training and validation loss')\n",
    "ax[0].set_xlabel('epoch')\n",
    "ax[0].set_ylabel('loss')\n",
    "ax[0].legend()\n",
    "\n",
    "ax[1].plot(np.arange(NUM_EPOCHS), history.history[\"last_iteration_binary_accuracy\"], 'b', label = 'Training accuracy')\n",
    "ax[1].plot(np.arange(NUM_EPOCHS), history.history[\"val_last_iteration_binary_accuracy\"], 'g', label = 'Validation accuracy')\n",
    "ax[1].set_title('Training and validation accuracy of the last message passing iteration')\n",
    "ax[1].set_xlabel('epoch')\n",
    "ax[1].set_ylabel('loss')\n",
    "ax[1].legend()\n",
    "\n",
    "plt.savefig(out + '.png', dpi=200)"
   ]
  },
  {
   "cell_type": "code",
   "execution_count": 17,
   "id": "d63a9cb6-c940-4599-aae0-eb9cd81ab350",
   "metadata": {
    "tags": []
   },
   "outputs": [
    {
     "data": {
      "text/plain": [
       "<tf.Tensor: shape=(1, 1, 128, 1), dtype=float32, numpy=\n",
       "array([[[[0.92940295],\n",
       "         [0.8994759 ],\n",
       "         [0.38474467],\n",
       "         [0.37424517],\n",
       "         [0.37337   ],\n",
       "         [0.4118389 ],\n",
       "         [0.37628767],\n",
       "         [0.9365544 ],\n",
       "         [0.9521784 ],\n",
       "         [0.8709814 ],\n",
       "         [0.75693065],\n",
       "         [0.35947374],\n",
       "         [0.35977077],\n",
       "         [0.9446054 ],\n",
       "         [0.36570472],\n",
       "         [0.35699788],\n",
       "         [0.32490587],\n",
       "         [0.3177012 ],\n",
       "         [0.9215177 ],\n",
       "         [0.3659463 ],\n",
       "         [0.36410996],\n",
       "         [0.35925737],\n",
       "         [0.35766825],\n",
       "         [0.35657015],\n",
       "         [0.3547984 ],\n",
       "         [0.35212255],\n",
       "         [0.35060397],\n",
       "         [0.4236325 ],\n",
       "         [0.38263193],\n",
       "         [0.32317653],\n",
       "         [0.32193577],\n",
       "         [0.45540345],\n",
       "         [0.31804258],\n",
       "         [0.8501617 ],\n",
       "         [0.65578103],\n",
       "         [0.8760769 ],\n",
       "         [0.3771102 ],\n",
       "         [0.6415254 ],\n",
       "         [0.41642126],\n",
       "         [0.32069746],\n",
       "         [0.320521  ],\n",
       "         [0.32346046],\n",
       "         [0.31788397],\n",
       "         [0.31293473],\n",
       "         [0.31152952],\n",
       "         [0.32307276],\n",
       "         [0.3230047 ],\n",
       "         [0.32312438],\n",
       "         [0.3230636 ],\n",
       "         [0.34833404],\n",
       "         [0.7701121 ],\n",
       "         [0.3332268 ],\n",
       "         [0.3126436 ],\n",
       "         [0.902758  ],\n",
       "         [0.8068125 ],\n",
       "         [0.3291029 ],\n",
       "         [0.32431883],\n",
       "         [0.32745364],\n",
       "         [0.3305759 ],\n",
       "         [0.3304828 ],\n",
       "         [0.36848894],\n",
       "         [0.37207508],\n",
       "         [0.3675146 ],\n",
       "         [0.3693903 ],\n",
       "         [0.3569161 ],\n",
       "         [0.35707235],\n",
       "         [0.3597808 ],\n",
       "         [0.35963786],\n",
       "         [0.9275741 ],\n",
       "         [0.63175774],\n",
       "         [0.61645293],\n",
       "         [0.6003087 ],\n",
       "         [0.58493596],\n",
       "         [0.3824691 ],\n",
       "         [0.32792628],\n",
       "         [0.95054585],\n",
       "         [0.36005327],\n",
       "         [0.49668592],\n",
       "         [0.7622177 ],\n",
       "         [0.32539085],\n",
       "         [0.33152685],\n",
       "         [0.3273472 ],\n",
       "         [0.32918596],\n",
       "         [0.33381122],\n",
       "         [0.5379209 ],\n",
       "         [0.33609316],\n",
       "         [0.33618683],\n",
       "         [0.3308788 ],\n",
       "         [0.3334463 ],\n",
       "         [0.3335457 ],\n",
       "         [0.33490157],\n",
       "         [0.33503652],\n",
       "         [0.33679816],\n",
       "         [0.33688614],\n",
       "         [0.32036582],\n",
       "         [0.3243747 ],\n",
       "         [0.33721957],\n",
       "         [0.74099904],\n",
       "         [0.6588956 ],\n",
       "         [0.94710803],\n",
       "         [0.93182826],\n",
       "         [0.8343881 ],\n",
       "         [0.94276005],\n",
       "         [0.35099888],\n",
       "         [0.35204828],\n",
       "         [0.3565656 ],\n",
       "         [0.35704812],\n",
       "         [0.35531974],\n",
       "         [0.3558686 ],\n",
       "         [0.3548146 ],\n",
       "         [0.3553285 ],\n",
       "         [0.31644556],\n",
       "         [0.36377603],\n",
       "         [0.3637778 ],\n",
       "         [0.8420687 ],\n",
       "         [0.9348007 ],\n",
       "         [0.8369582 ],\n",
       "         [0.8904137 ],\n",
       "         [0.32830316],\n",
       "         [0.32947597],\n",
       "         [0.5393182 ],\n",
       "         [0.5700189 ],\n",
       "         [0.9618603 ],\n",
       "         [0.75002474],\n",
       "         [0.33668494],\n",
       "         [0.34843248],\n",
       "         [0.9471049 ],\n",
       "         [0.35578945]]]], dtype=float32)>"
      ]
     },
     "execution_count": 17,
     "metadata": {},
     "output_type": "execute_result"
    }
   ],
   "source": [
    "gnn.predict(input_train[0][0])"
   ]
  },
  {
   "cell_type": "code",
   "execution_count": null,
   "id": "435e1a52-a66f-4a4b-b70d-a026b325d38b",
   "metadata": {
    "jupyter": {
     "source_hidden": true
    },
    "tags": []
   },
   "outputs": [],
   "source": [
    "\"\"\"input_train = input_train_no_edge\n",
    "input_val = input_val_no_edge\n",
    "train_gen = SampleGenerator(False, len(input_train))#int(numb_batches * (1-val_size)))\n",
    "val_gen = SampleGenerator(True, len(input_val))#int(numb_batches * val_size))\n",
    "\n",
    "NUM_EPOCHS = 500\n",
    "history = gnn.train_nn(train_gen, val_gen, NUM_EPOCHS, out) #!\n",
    "    \n",
    "history.history[\"last_iteration_binary_accuracy\"][-1]\n",
    "_, ax = plt.subplots(ncols = 2, figsize=(15,9))\n",
    "\n",
    "ax[0].plot(np.arange(NUM_EPOCHS), history.history[\"loss\"], 'b', label = 'Training loss')\n",
    "ax[0].plot(np.arange(NUM_EPOCHS), history.history[\"val_loss\"], 'g', label = 'Validation loss')\n",
    "ax[0].set_title('Training and validation loss')\n",
    "ax[0].set_xlabel('epoch')\n",
    "ax[0].set_ylabel('loss')\n",
    "ax[0].legend()\n",
    "\n",
    "ax[1].plot(np.arange(NUM_EPOCHS), history.history[\"last_iteration_binary_accuracy\"], 'b', label = 'Training accuracy')\n",
    "ax[1].plot(np.arange(NUM_EPOCHS), history.history[\"val_last_iteration_binary_accuracy\"], 'g', label = 'Validation accuracy')\n",
    "ax[1].set_title('Training and validation accuracy of the last message passing iteration')\n",
    "ax[1].set_xlabel('epoch')\n",
    "ax[1].set_ylabel('loss')\n",
    "ax[1].legend()\n",
    "\n",
    "plt.savefig(out + '.png', dpi=200)\"\"\""
   ]
  }
 ],
 "metadata": {
  "kernelspec": {
   "display_name": "Python 3",
   "language": "python",
   "name": "python3"
  },
  "language_info": {
   "codemirror_mode": {
    "name": "ipython",
    "version": 3
   },
   "file_extension": ".py",
   "mimetype": "text/x-python",
   "name": "python",
   "nbconvert_exporter": "python",
   "pygments_lexer": "ipython3",
   "version": "3.9.2"
  }
 },
 "nbformat": 4,
 "nbformat_minor": 5
}
