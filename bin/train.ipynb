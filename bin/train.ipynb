{
 "cells": [
  {
   "cell_type": "code",
   "execution_count": 1,
   "id": "6c4e686c-964a-4d2f-9fd9-3b7243638654",
   "metadata": {},
   "outputs": [],
   "source": [
    "import sys\n",
    "sys.path.insert(0, '/home/jovyan/Proj/ml_combiner/TSEBRA/bin')\n",
    "import os\n",
    "import csv\n",
    "import numpy as np\n",
    "import tensorflow as tf\n",
    "from tensorflow import keras\n",
    "from tensorflow.keras import layers\n",
    "from datetime import datetime\n",
    "import matplotlib.pyplot as plt\n",
    "from genome_anno import Anno\n",
    "from overlap_graph import Graph\n",
    "from evidence import Evidence\n",
    "from gnn import GNN\n",
    "import pickle\n",
    "import tensorflow as tf\n",
    "#physical_devices = tf.config.list_physical_devices('GPU') \n",
    "#for device in physical_devices:\n",
    "    #tf.config.experimental.set_memory_growth(device, True)"
   ]
  },
  {
   "cell_type": "code",
   "execution_count": 2,
   "id": "a78266bd-579e-4ed9-93bf-0c5588bba1bd",
   "metadata": {},
   "outputs": [],
   "source": [
    "def set_weight():\n",
    "    global weight_class_one\n",
    "    a=0\n",
    "    b=0\n",
    "    print(input_train[3][1])\n",
    "    for i in input_train:    \n",
    "        a+=1\n",
    "        for k in list(i[1].values())[0]:        \n",
    "            a += k.shape[0]\n",
    "            b += np.sum(k[:,0])\n",
    "    weight_class_one = (a-b)/b+1\n",
    "    print(a, b, weight_class_one)"
   ]
  },
  {
   "cell_type": "code",
   "execution_count": 3,
   "id": "9a41a7d7-aa5a-4698-8de4-f1cfcbc921fd",
   "metadata": {},
   "outputs": [],
   "source": [
    "class SampleGenerator(keras.utils.Sequence):\n",
    "    def __init__(self, val, epoch_len):\n",
    "        self.val = val\n",
    "        self.epoch_len = epoch_len\n",
    "        self.shuffle=True\n",
    "        self.on_epoch_end()\n",
    "\n",
    "    def __len__(self):\n",
    "        return self.epoch_len #number of gradient descent steps per epoch\n",
    "\n",
    "    def on_epoch_end(self):\n",
    "        global input_train\n",
    "        'Updates indexes after each epoch'\n",
    "        self.indexes = np.arange(self.epoch_len)\n",
    "        input_train = []\n",
    "        for g in graph_list:            \n",
    "            i, _, _, _, _ = get_batches(g, int(numb_batches_train / len(train_species)), \n",
    "                                        batch_size, int(numb_batches_train_no_edge / len(train_species)),0)\n",
    "            input_train += i\n",
    "        if self.shuffle == True:\n",
    "            np.random.shuffle(self.indexes)\n",
    "            \n",
    "    def __getitem__(self, _index):\n",
    "        i = self.indexes[_index]\n",
    "        if self.val:\n",
    "            return input_val[i][0], input_val[i][1]\n",
    "        else:\n",
    "            return input_train[i][0], input_train[i][1]"
   ]
  },
  {
   "cell_type": "code",
   "execution_count": 4,
   "id": "1e60d04e-c521-4191-a43e-0bffe112d85e",
   "metadata": {
    "tags": []
   },
   "outputs": [],
   "source": [
    "train_species = ['Populus_trichocarpa','Drosophila_melanogaster', \n",
    "                    'Medicago_truncatula', 'Caenorhabditis_elegans']\n",
    "#train_species = ['Caenorhabditis_elegans', 'Drosophila_melanogaster', \n",
    "                 #'Medicago_truncatula']\n",
    "#train_species= ['Arabidopsis_thaliana']\n",
    "val_species = ['Arabidopsis_thaliana', 'Danio_rerio']\n",
    "#val_species= ['Arabidopsis_thaliana']\n",
    "\n",
    "quiet = True\n",
    "numb_batches_train = 150 * len(train_species)\n",
    "numb_batches_val = 120 *len(val_species)\n",
    "numb_batches_train_no_edge = 75 * len(train_species)\n",
    "numb_batches_val_no_edge = 75 *len(val_species)\n",
    "batch_size = 128\n",
    "v=0\n",
    "brain_dir = '/home/jovyan/brain/'\n",
    "parent_dir = '/home/jovyan/Proj/ml_combiner/data/train_data'\n",
    "out = f'{parent_dir}/train2/train2'\n",
    "weight_class_one = 1."
   ]
  },
  {
   "cell_type": "code",
   "execution_count": 5,
   "id": "12ad0e55-589d-4162-968d-58e03267c74c",
   "metadata": {},
   "outputs": [],
   "source": [
    "def get_edge_max():\n",
    "    e_f1 = []\n",
    "    e_f2 = []\n",
    "    for g in graph_list:        \n",
    "        for edge in g.edges.values():            \n",
    "            e_f1.append(edge.feature_vector_n1_to_n2)\n",
    "            e_f2.append(edge.feature_vector_n2_to_n1)           \n",
    "            \n",
    "    e_f1 = np.array(e_f1)[:,:120]\n",
    "    e_f2 = np.array(e_f2)[:,:120]\n",
    "    print(e_f1.shape)\n",
    "    print(e_f2.shape)\n",
    "    print('EDGES ni to nj')\n",
    "    print('MEAN\\n', [i for i in np.mean(e_f1, axis=0)])\n",
    "    print('STD\\n',[i for i in np.std(e_f1, axis=0)])\n",
    "    print('MAX\\n',[i for i in np.max(e_f1, axis=0)])\n",
    "    print('MIN\\n',[i for i in np.min(e_f1, axis=0)])\n",
    "    print('\\nEDGES nj to ni')\n",
    "    print('MEAN\\n', [i for i in np.mean(e_f2, axis=0)])\n",
    "    print('STD\\n',[i for i in np.std(e_f2, axis=0)])\n",
    "    print('MAX\\n',[i for i in np.max(e_f2, axis=0)])\n",
    "    print('MIN\\n',[i for i in np.min(e_f2, axis=0)])\n",
    "    \n",
    "def get_node_max():\n",
    "    n_f = []\n",
    "    for g in graph_list:        \n",
    "        for node in g.nodes.values():            \n",
    "            n_f.append(node.feature_vector)     \n",
    "            \n",
    "    n_f = np.array(n_f)[:,:80]\n",
    "    print(n_f.shape)\n",
    "    print('NODES')\n",
    "    print('MEAN\\n', [i for i in np.mean(n_f, axis=0)])\n",
    "    print('STD\\n',[i for i in np.std(n_f, axis=0)])\n",
    "    print('MAX\\n',[i for i in np.max(n_f, axis=0)])\n",
    "    print('MIN\\n',[i for i in np.min(n_f, axis=0)])\n",
    "    print('MIN\\n',[i for i in np.min(n_f, axis=0)])"
   ]
  },
  {
   "cell_type": "code",
   "execution_count": 6,
   "id": "31e1c3b2-ccb8-466c-b470-db5011670007",
   "metadata": {
    "jupyter": {
     "source_hidden": true
    },
    "tags": []
   },
   "outputs": [],
   "source": [
    "def describe_features(graph):\n",
    "    n_f = []    \n",
    "    n_f_true = []\n",
    "    e_f_tt = []\n",
    "    e_f_tf = []\n",
    "    e_f_ft = []\n",
    "    e_f_ff = []\n",
    "    \n",
    "#     for node in graph.nodes.values():\n",
    "#         n_f.append(node.feature_vector)\n",
    "#     for edge in graph.edges.values():\n",
    "#         e_f.append(edge.feature_vector_n1_to_n2)\n",
    "#         e_f.append(edge.feature_vector_n2_to_n1)\n",
    "    for g in graph_list:\n",
    "        for node in g.nodes.values():\n",
    "            if node.is_in_ref_anno:\n",
    "                n_f_true.append(node.feature_vector)\n",
    "            else:\n",
    "                n_f.append(node.feature_vector)\n",
    "        for edge in g.edges.values():\n",
    "            n1 = g.nodes[edge.node1]\n",
    "            n2 = g.nodes[edge.node2]\n",
    "            if n1.is_in_ref_anno and n2.is_in_ref_anno:                \n",
    "                e_f_tt.append(edge.feature_vector_n1_to_n2)\n",
    "                e_f_tt.append(edge.feature_vector_n2_to_n1)\n",
    "            elif n1.is_in_ref_anno and not n2.is_in_ref_anno:\n",
    "                e_f_tf.append(edge.feature_vector_n1_to_n2)\n",
    "                e_f_ft.append(edge.feature_vector_n2_to_n1)\n",
    "            elif not n1.is_in_ref_anno and n2.is_in_ref_anno:\n",
    "                e_f_ft.append(edge.feature_vector_n1_to_n2)\n",
    "                e_f_tf.append(edge.feature_vector_n2_to_n1)\n",
    "            elif not n1.is_in_ref_anno and not n2.is_in_ref_anno:\n",
    "                e_f_ff.append(edge.feature_vector_n1_to_n2)\n",
    "                e_f_ff.append(edge.feature_vector_n2_to_n1)\n",
    "            \n",
    "    n_f = np.array(n_f)\n",
    "    n_f_true = np.array(n_f_true)\n",
    "    print(n_f.shape)\n",
    "    print(n_f_true.shape)\n",
    "    e_f_ff = np.array(e_f_ff)\n",
    "    e_f_tt = np.array(e_f_tt)\n",
    "    e_f_tf = np.array(e_f_tf)\n",
    "    e_f_ft = np.array(e_f_ft)\n",
    "    print(e_f_tt.shape)\n",
    "    print(e_f_ft.shape)\n",
    "    print(e_f_tf.shape)\n",
    "    print(e_f_ff.shape)\n",
    "    \n",
    "    n_f_all = np.concatenate((n_f,n_f_true))\n",
    "    print(n_f_all.shape)\n",
    "    e_f_all = np.concatenate((e_f_ff,e_f_tt,e_f_tf,e_f_ft))\n",
    "    print('NODES')\n",
    "    print('MEAN\\n', [i for i in np.mean(n_f_all, axis=0)])\n",
    "    print('STD\\n', [i for i in np.std(n_f_all, axis=0)])\n",
    "    print('MAX\\n', [i for i in np.max(n_f_all, axis=0)])\n",
    "    print('Min\\n', [i for i in np.min(n_f_all, axis=0)])\n",
    "    print('EDGES')\n",
    "    print('MEAN\\n', [i for i in np.mean(e_f_all, axis=0)])\n",
    "    print('STD\\n',[i for i in np.std(e_f_all, axis=0)])\n",
    "    print('MAX\\n',[i for i in np.max(e_f_all, axis=0)])\n",
    "    print('MIN\\n',[i for i in np.min(e_f_all, axis=0)])\n",
    "    \n",
    "    fig, ax = plt.subplots(ncols = 1, nrows=4, figsize=(15,9))\n",
    "    i = int(n_f.shape[1] / 4 + 0.5)\n",
    "    for j in range(4):\n",
    "        data = [n_f[:,k] for k in range(i*j, min(i*(j+1), n_f.shape[1]))]\n",
    "        data2 = [n_f_true[:,k] for k in range(i*j, min(i*(j+1), n_f_true.shape[1]))]\n",
    "        bp = ax[j].boxplot(data, positions=np.array(range(len(data)))*2.0-0.4, sym='', widths=0.6)\n",
    "        for item in ['boxes', 'medians']:            \n",
    "            plt.setp(bp[item], color='red')\n",
    "        bp = ax[j].boxplot(data2, positions=np.array(range(len(data2)))*2.0+0.4, sym='', widths=0.6)\n",
    "        for item in ['boxes', 'medians']:            \n",
    "            plt.setp(bp[item], color='green')\n",
    "        ax[j].set_ylim([-3,3])\n",
    "        ax[j].set_xticks([])\n",
    "        \n",
    "    plt.savefig(brain_dir + '/test_data/ml_training/plot/node_features.png', dpi=200)\n",
    "    fig.suptitle(f'node features')\n",
    "    fig, ax = plt.subplots(ncols = 1, nrows=4, figsize=(15,9))\n",
    "    i = int(e_f_tt.shape[1] / 4 + 0.5)\n",
    "    for j in range(4):\n",
    "        for c, e_f, v in zip(['red', 'orange', 'violet', 'green'], [e_f_ff, e_f_ft, e_f_tf, e_f_tt], \n",
    "                            [1.1, 0.4, -0.4, -1.1]):\n",
    "            data = [e_f[:,k] for k in range(i*j, min(i*(j+1), e_f.shape[1]))]\n",
    "            bp = ax[j].boxplot(data, positions=np.array(range(len(data)))*4.0-v, sym='', widths=0.6)\n",
    "            for item in ['boxes', 'medians']:            \n",
    "                plt.setp(bp[item], color=c)\n",
    "        ax[j].set_ylim([-3,3])\n",
    "    fig.suptitle(f'edge features')\n",
    "    plt.savefig(brain_dir + '/test_data/ml_training/plot/edge_features.png', dpi=200)\n",
    "    plt.show()"
   ]
  },
  {
   "cell_type": "code",
   "execution_count": 7,
   "id": "b8ab1cd7-fcd8-4646-8ede-bfe501c4281e",
   "metadata": {},
   "outputs": [],
   "source": [
    "\"\"\"def get_batches(tx_sets, evi, anno, numb_b, b_size, v_size, des=False):\n",
    "    graph = Graph(tx_sets, verbose=v)\n",
    "    graph.build()\n",
    "    graph.add_node_features(evi)\n",
    "    graph.add_edge_features(evi)\n",
    "    graph.add_reference_anno_label(anno)\n",
    "    graph.create_batch(numb_b, b_size, repl=False)    \n",
    "    train, val = graph.get_batches_as_input_target(v_size)\n",
    "    if des:\n",
    "        describe_features(graph)\n",
    "    return train, val, graph\"\"\"\n",
    "\n",
    "def get_batches(graph, numb_b, b_size, numb_b_n_e, v_size, des=False):    \n",
    "    graph.create_batch(numb_b, b_size, repl=False)  \n",
    "    #graph.create_batch_no_edges(numb_b_n_e, b_size, repl=False)\n",
    "    train, val, train_no_edge, val_no_edge = graph.get_batches_as_input_target(v_size)\n",
    "    if des:\n",
    "        describe_features(graph)\n",
    "    return train, val, train_no_edge, val_no_edge, graph"
   ]
  },
  {
   "cell_type": "code",
   "execution_count": 8,
   "id": "d1e45ef0-c2d5-46fc-94d5-367a49e29ee5",
   "metadata": {
    "jupyter": {
     "source_hidden": true
    },
    "tags": []
   },
   "outputs": [
    {
     "data": {
      "text/plain": [
       "\"c = 1\\ngene_sets = []\\nval_sets = []\\nfor b in ['braker1', 'braker2']:        \\n    gene_sets.append(Anno(f'{parent_dir}/{b}_train.gtf', f'anno{c}'))\\n    gene_sets[-1].addGtf()\\n    gene_sets[-1].norm_tx_format()\\n    val_sets.append(Anno(f'{parent_dir}/{b}_val.gtf', f'anno{c}'))\\n    val_sets[-1].addGtf()\\n    val_sets[-1].norm_tx_format()\\n\\n    c += 1\\n\\nref_anno = Anno(f'{parent_dir}/annot_train.gtf', 'reference')\\nref_anno.addGtf()\\nref_anno.norm_tx_format()\\nref_anno_val = Anno(f'{parent_dir}/annot_val.gtf', 'reference')\\nref_anno_val.addGtf()\\nref_anno_val.norm_tx_format()\\n\\n# read hintfiles\\nevi_train = Evidence()\\nfor h in ['hints1', 'hints2']:    \\n    evi_train.add_hintfile(f'{parent_dir}/{h}_train.gff')\\n    \\nevi_val = Evidence()\\nfor h in ['hints1', 'hints2']:        \\n    evi_val.add_hintfile(f'{parent_dir}/{h}_val.gff')\""
      ]
     },
     "execution_count": 8,
     "metadata": {},
     "output_type": "execute_result"
    }
   ],
   "source": [
    "\"\"\"c = 1\n",
    "gene_sets = []\n",
    "val_sets = []\n",
    "for b in ['braker1', 'braker2']:        \n",
    "    gene_sets.append(Anno(f'{parent_dir}/{b}_train.gtf', f'anno{c}'))\n",
    "    gene_sets[-1].addGtf()\n",
    "    gene_sets[-1].norm_tx_format()\n",
    "    val_sets.append(Anno(f'{parent_dir}/{b}_val.gtf', f'anno{c}'))\n",
    "    val_sets[-1].addGtf()\n",
    "    val_sets[-1].norm_tx_format()\n",
    "\n",
    "    c += 1\n",
    "\n",
    "ref_anno = Anno(f'{parent_dir}/annot_train.gtf', 'reference')\n",
    "ref_anno.addGtf()\n",
    "ref_anno.norm_tx_format()\n",
    "ref_anno_val = Anno(f'{parent_dir}/annot_val.gtf', 'reference')\n",
    "ref_anno_val.addGtf()\n",
    "ref_anno_val.norm_tx_format()\n",
    "\n",
    "# read hintfiles\n",
    "evi_train = Evidence()\n",
    "for h in ['hints1', 'hints2']:    \n",
    "    evi_train.add_hintfile(f'{parent_dir}/{h}_train.gff')\n",
    "    \n",
    "evi_val = Evidence()\n",
    "for h in ['hints1', 'hints2']:        \n",
    "    evi_val.add_hintfile(f'{parent_dir}/{h}_val.gff')\"\"\"\n"
   ]
  },
  {
   "cell_type": "code",
   "execution_count": 9,
   "id": "32ef51f7-d7df-4891-859c-ecacd76e01ce",
   "metadata": {
    "tags": []
   },
   "outputs": [],
   "source": [
    "#input_train, _, g1 = get_batches(gene_sets, evi_train, ref_anno, numb_batches_train, batch_size, 0)\n",
    "#input_val, _, g2 = get_batches(val_sets, evi_val, ref_anno_val, numb_batches_val, batch_size, 0) \n",
    "input_train = []\n",
    "input_train_no_edge = []\n",
    "input_val = []\n",
    "input_val_no_edge = []\n",
    "graph_list = []\n",
    "for s in train_species:\n",
    "    #with open(f'{brain_dir}/test_data/ml_training/train_data/{s}_graph_object.pkl', 'rb') as inp:\n",
    "    with open(f'{brain_dir}/test_data/ml_training/train_data/{s}_altseqs_graph_object.pkl', 'rb') as inp:\n",
    "        g = pickle.load(inp)\n",
    "        graph_list.append(g)\n",
    "    #i, _, j, _, _ = get_batches(g, int(numb_batches_train / len(train_species)), \n",
    "                                #batch_size, int(numb_batches_train_no_edge / len(train_species)),0)\n",
    "    #input_train += i\n",
    "    #input_train_no_edge += j\n",
    "\n",
    "for s in val_species:\n",
    "    #with open(f'{brain_dir}/test_data/ml_training/train_data/{s}_graph_object.pkl', 'rb') as inp:\n",
    "    with open(f'{brain_dir}/test_data/ml_training/train_data/{s}_altseqs_graph_object.pkl', 'rb') as inp:\n",
    "        g = pickle.load(inp)\n",
    "    i, _, j, _, _ = get_batches(g, int(numb_batches_val / len(val_species)), \n",
    "                                batch_size, numb_batches_val_no_edge, 0)\n",
    "    input_val += i\n",
    "    input_val_no_edge += j"
   ]
  },
  {
   "cell_type": "code",
   "execution_count": 10,
   "id": "a138ef9c-dc0c-454c-8080-500d457e978f",
   "metadata": {
    "tags": []
   },
   "outputs": [],
   "source": [
    "#describe_features(graph_list[0])\n",
    "#get_node_max()\n",
    "#get_edge_max()"
   ]
  },
  {
   "cell_type": "code",
   "execution_count": 11,
   "id": "b77453fd-0c18-4a78-ac80-3c7788e9515a",
   "metadata": {
    "tags": []
   },
   "outputs": [
    {
     "name": "stdout",
     "output_type": "stream",
     "text": [
      "{'target_label': array([[[1., 0., 0., ..., 0., 0., 0.],\n",
      "        [0., 0., 0., ..., 0., 0., 0.],\n",
      "        [1., 0., 0., ..., 0., 2., 0.],\n",
      "        ...,\n",
      "        [0., 0., 0., ..., 0., 0., 0.],\n",
      "        [0., 0., 0., ..., 0., 0., 0.],\n",
      "        [0., 0., 0., ..., 0., 0., 0.]]])}\n",
      "79526 20145.0 3.947679324894515\n"
     ]
    }
   ],
   "source": [
    "train_gen = SampleGenerator(False, numb_batches_train)#int(numb_batches * (1-val_size)))\n",
    "val_gen = SampleGenerator(True, len(input_val))#int(numb_batches * val_size))\n",
    "set_weight()\n",
    "gnn = GNN(weight_class_one=weight_class_one)\n",
    "gnn.compile()"
   ]
  },
  {
   "cell_type": "code",
   "execution_count": 16,
   "id": "d635978f-87d9-4eee-9f46-fc0dc52e7421",
   "metadata": {},
   "outputs": [
    {
     "data": {
      "text/plain": [
       "(1, 128, 160)"
      ]
     },
     "execution_count": 16,
     "metadata": {},
     "output_type": "execute_result"
    }
   ],
   "source": [
    "train_gen = SampleGenerator(False, numb_batches_train)#int(numb_batches * (1-val_size)))\n",
    "val_gen = SampleGenerator(True, len(input_val))\n",
    "input_train[0][0]['input_nodes'].shape"
   ]
  },
  {
   "cell_type": "code",
   "execution_count": 13,
   "id": "27c4bf0d-369e-4da1-ab89-694827beee2a",
   "metadata": {
    "jupyter": {
     "source_hidden": true
    },
    "tags": []
   },
   "outputs": [
    {
     "data": {
      "text/plain": [
       "\"y_true=tf.constant(input_train[0][1]['target_label'])\\nprint(y_true.shape)\\ncds_true = tf.math.reduce_max(y_true[0][:,1:],0)\\n#cds_true = tf.zeros(y_true.shape[-1], float)\\ncds_true = tf.math.subtract(cds_true, 1.0)\\ncds_true = tf.math.maximum(cds_true, 0.0)\\ni=5\\nprint(y_true[0][:,1:][:,i], y_true[0][:,1:][43:52,i])\\ncds_prob = tf.math.minimum(y_true[0][:,1:], 1.0)\\ny_pred= tf.expand_dims(tf.expand_dims(tf.ones(134, tf.double)*0.5,0),0)\\nprint(y_pred[-1].shape, cds_prob.shape)\\nprint(cds_prob[:,i], cds_prob[43:52,i])\\ncds_prob = tf.math.multiply(cds_prob, tf.expand_dims(y_pred[-1][0],1))\\nprint(cds_prob[:,i], cds_prob[43:52,i])\\ncum_prod = tf.math.multiply(tf.math.subtract(cds_prob, 1), -1)\\nprint(cum_prod[:,i], cum_prod[43:52,i])\\ncum_prod = tf.math.cumprod(cum_prod, axis=0, exclusive=True)\\n#cds_prob = tf.math.multiply(cds_prob, cum_prod)\\ncds_pred = tf.reduce_sum(tf.math.multiply(cds_prob, cum_prod), 0)\\n#cds_pred = tf.linalg.matmul(cds_prob, cum_prod, transpose_a=True)\\nprint(cum_prod[:,i], cum_prod[43:52,i])\\nprint(cds_prob[:,i], cds_prob[43:52,i])\\ncds_pred[i]\""
      ]
     },
     "execution_count": 13,
     "metadata": {},
     "output_type": "execute_result"
    }
   ],
   "source": [
    "\"\"\"y_true=tf.constant(input_train[0][1]['target_label'])\n",
    "print(y_true.shape)\n",
    "cds_true = tf.math.reduce_max(y_true[0][:,1:],0)\n",
    "#cds_true = tf.zeros(y_true.shape[-1], float)\n",
    "cds_true = tf.math.subtract(cds_true, 1.0)\n",
    "cds_true = tf.math.maximum(cds_true, 0.0)\n",
    "i=5\n",
    "print(y_true[0][:,1:][:,i], y_true[0][:,1:][43:52,i])\n",
    "cds_prob = tf.math.minimum(y_true[0][:,1:], 1.0)\n",
    "y_pred= tf.expand_dims(tf.expand_dims(tf.ones(134, tf.double)*0.5,0),0)\n",
    "print(y_pred[-1].shape, cds_prob.shape)\n",
    "print(cds_prob[:,i], cds_prob[43:52,i])\n",
    "cds_prob = tf.math.multiply(cds_prob, tf.expand_dims(y_pred[-1][0],1))\n",
    "print(cds_prob[:,i], cds_prob[43:52,i])\n",
    "cum_prod = tf.math.multiply(tf.math.subtract(cds_prob, 1), -1)\n",
    "print(cum_prod[:,i], cum_prod[43:52,i])\n",
    "cum_prod = tf.math.cumprod(cum_prod, axis=0, exclusive=True)\n",
    "#cds_prob = tf.math.multiply(cds_prob, cum_prod)\n",
    "cds_pred = tf.reduce_sum(tf.math.multiply(cds_prob, cum_prod), 0)\n",
    "#cds_pred = tf.linalg.matmul(cds_prob, cum_prod, transpose_a=True)\n",
    "print(cum_prod[:,i], cum_prod[43:52,i])\n",
    "print(cds_prob[:,i], cds_prob[43:52,i])\n",
    "cds_pred[i]\"\"\""
   ]
  },
  {
   "cell_type": "code",
   "execution_count": 17,
   "id": "43bfc0a7-d396-44d4-af0b-c73a1c07a469",
   "metadata": {
    "tags": []
   },
   "outputs": [
    {
     "name": "stdout",
     "output_type": "stream",
     "text": [
      "600/600 [==============================] - 9s 15ms/step - loss: 1.0313 - last_iteration_binary_accuracy: 0.9522 - val_loss: 4.4825 - val_last_iteration_binary_accuracy: 0.9522\n"
     ]
    },
    {
     "data": {
      "image/png": "[encoded data removed]",
      "text/plain": [
       "<Figure size 1080x648 with 2 Axes>"
      ]
     },
     "metadata": {
      "needs_background": "light"
     },
     "output_type": "display_data"
    }
   ],
   "source": [
    "NUM_EPOCHS = 1\n",
    "#history = gnn.train(train_gen, val_gen, NUM_EPOCHS, out) #!\n",
    "history = gnn.train(train_gen, val_gen, NUM_EPOCHS, out)\n",
    "\n",
    "history.history[\"last_iteration_binary_accuracy\"][-1]\n",
    "_, ax = plt.subplots(ncols = 2, figsize=(15,9))\n",
    "\n",
    "ax[0].plot(np.arange(NUM_EPOCHS), history.history[\"loss\"], 'b', label = 'Training loss')\n",
    "ax[0].plot(np.arange(NUM_EPOCHS), history.history[\"val_loss\"], 'g', label = 'Validation loss')\n",
    "ax[0].set_title('Training and validation loss')\n",
    "ax[0].set_xlabel('epoch')\n",
    "ax[0].set_ylabel('loss')\n",
    "ax[0].legend()\n",
    "\n",
    "ax[1].plot(np.arange(NUM_EPOCHS), history.history[\"last_iteration_binary_accuracy\"], 'b', label = 'Training accuracy')\n",
    "ax[1].plot(np.arange(NUM_EPOCHS), history.history[\"val_last_iteration_binary_accuracy\"], 'g', label = 'Validation accuracy')\n",
    "ax[1].set_title('Training and validation accuracy of the last message passing iteration')\n",
    "ax[1].set_xlabel('epoch')\n",
    "ax[1].set_ylabel('loss')\n",
    "ax[1].legend()\n",
    "\n",
    "plt.savefig(out + '.png', dpi=200)"
   ]
  },
  {
   "cell_type": "code",
   "execution_count": null,
   "id": "d63a9cb6-c940-4599-aae0-eb9cd81ab350",
   "metadata": {
    "tags": []
   },
   "outputs": [],
   "source": [
    "gnn.predict(input_train[100][0])"
   ]
  },
  {
   "cell_type": "code",
   "execution_count": null,
   "id": "435e1a52-a66f-4a4b-b70d-a026b325d38b",
   "metadata": {
    "tags": []
   },
   "outputs": [],
   "source": [
    "\"\"\"input_train = input_train_no_edge\n",
    "input_val = input_val_no_edge\n",
    "train_gen = SampleGenerator(False, len(input_train))#int(numb_batches * (1-val_size)))\n",
    "val_gen = SampleGenerator(True, len(input_val))#int(numb_batches * val_size))\n",
    "\n",
    "NUM_EPOCHS = 500\n",
    "history = gnn.train_nn(train_gen, val_gen, NUM_EPOCHS, out) #!\n",
    "    \n",
    "history.history[\"last_iteration_binary_accuracy\"][-1]\n",
    "_, ax = plt.subplots(ncols = 2, figsize=(15,9))\n",
    "\n",
    "ax[0].plot(np.arange(NUM_EPOCHS), history.history[\"loss\"], 'b', label = 'Training loss')\n",
    "ax[0].plot(np.arange(NUM_EPOCHS), history.history[\"val_loss\"], 'g', label = 'Validation loss')\n",
    "ax[0].set_title('Training and validation loss')\n",
    "ax[0].set_xlabel('epoch')\n",
    "ax[0].set_ylabel('loss')\n",
    "ax[0].legend()\n",
    "\n",
    "ax[1].plot(np.arange(NUM_EPOCHS), history.history[\"last_iteration_binary_accuracy\"], 'b', label = 'Training accuracy')\n",
    "ax[1].plot(np.arange(NUM_EPOCHS), history.history[\"val_last_iteration_binary_accuracy\"], 'g', label = 'Validation accuracy')\n",
    "ax[1].set_title('Training and validation accuracy of the last message passing iteration')\n",
    "ax[1].set_xlabel('epoch')\n",
    "ax[1].set_ylabel('loss')\n",
    "ax[1].legend()\n",
    "\n",
    "plt.savefig(out + '.png', dpi=200)\"\"\""
   ]
  }
 ],
 "metadata": {
  "kernelspec": {
   "display_name": "Python 3",
   "language": "python",
   "name": "python3"
  },
  "language_info": {
   "codemirror_mode": {
    "name": "ipython",
    "version": 3
   },
   "file_extension": ".py",
   "mimetype": "text/x-python",
   "name": "python",
   "nbconvert_exporter": "python",
   "pygments_lexer": "ipython3",
   "version": "3.9.2"
  }
 },
 "nbformat": 4,
 "nbformat_minor": 5
}
